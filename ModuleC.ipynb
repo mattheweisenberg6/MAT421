{
  "nbformat": 4,
  "nbformat_minor": 0,
  "metadata": {
    "colab": {
      "provenance": [],
      "authorship_tag": "ABX9TyMS5RLpWsMSdEkf9+5+DGYC",
      "include_colab_link": true
    },
    "kernelspec": {
      "name": "python3",
      "display_name": "Python 3"
    },
    "language_info": {
      "name": "python"
    }
  },
  "cells": [
    {
      "cell_type": "markdown",
      "metadata": {
        "id": "view-in-github",
        "colab_type": "text"
      },
      "source": [
        "<a href=\"https://colab.research.google.com/github/mattheweisenberg6/MAT421/blob/main/ModuleC.ipynb\" target=\"_parent\"><img src=\"https://colab.research.google.com/assets/colab-badge.svg\" alt=\"Open In Colab\"/></a>"
      ]
    },
    {
      "cell_type": "markdown",
      "source": [
        "**19.1 Root Finding Problem Statement**\n",
        "\n",
        "For some functions f(x), it can be difficult to calculate its root, thus we can generate approximations of its root."
      ],
      "metadata": {
        "id": "B8foYX2UZIa2"
      }
    },
    {
      "cell_type": "code",
      "source": [
        "#approximating root of f(x) = cos(x) - x near -2\n",
        "\n",
        "import numpy as np\n",
        "from scipy import optimize\n",
        "\n",
        "f = lambda x: np.cos(x) - x\n",
        "r = optimize.fsolve(f, -2)\n",
        "print(\"r =\", r)\n",
        "\n",
        "# Verify the solution is a root\n",
        "result = f(r)\n",
        "print(\"result =\", result)\n"
      ],
      "metadata": {
        "colab": {
          "base_uri": "https://localhost:8080/"
        },
        "id": "sqyGm3GmZxx3",
        "outputId": "ef04d29f-acc1-49ca-96c7-e92ecf496bb5"
      },
      "execution_count": 2,
      "outputs": [
        {
          "output_type": "stream",
          "name": "stdout",
          "text": [
            "r = [0.73908513]\n",
            "result = [0.]\n"
          ]
        }
      ]
    },
    {
      "cell_type": "code",
      "source": [
        "#approximating root of f(x) = 1/x which has no root\n",
        "\n",
        "f = lambda x: 1/x\n",
        "\n",
        "r, infodict, ier, mesg = optimize.fsolve(f, -2, full_output=True)\n",
        "print(\"r =\", r)\n",
        "\n",
        "result = f(r)\n",
        "print(\"result=\", result)\n",
        "\n",
        "print(mesg)"
      ],
      "metadata": {
        "colab": {
          "base_uri": "https://localhost:8080/"
        },
        "id": "9pINFdkxaIiW",
        "outputId": "fde89b7e-cf0b-4cbc-8e6e-af4e3949ff82"
      },
      "execution_count": 3,
      "outputs": [
        {
          "output_type": "stream",
          "name": "stdout",
          "text": [
            "r = [-3.52047359e+83]\n",
            "result= [-2.84052692e-84]\n",
            "The number of calls to function has reached maxfev = 400.\n"
          ]
        }
      ]
    },
    {
      "cell_type": "markdown",
      "source": [
        "The value r we got is not the root even though f(r) is a small number. Since full_output is on, we have more information about the output which tells us the cause for failure: \"The number of calls to function has reached maxfev = 400.\""
      ],
      "metadata": {
        "id": "x7FtZDvpaVIW"
      }
    },
    {
      "cell_type": "markdown",
      "source": [
        "**19.2 Tolerance**\n",
        "\n",
        " Tolerance is the level of error that is acceptable for an engineering application. When a computer converges on a solution, it has chosen a solution that is less than the tolerance. For computing roots numerically, it's important to have metrics for errors and tolerance. For computing roots, we want x_r to be such that f(x_r) = 0 which means |f(x)| is possible metric for error."
      ],
      "metadata": {
        "id": "Hp-55GC0ZQ-Q"
      }
    },
    {
      "cell_type": "markdown",
      "source": [
        "Let e = |f(x)| and tol be the acceptable level of error. The function f(x) = x^ 2 + tol/2 has no real roots. However, f(0) = tol/2 and is therefore an acceptable solution for the root finding program."
      ],
      "metadata": {
        "id": "bzyh80V3tUrK"
      }
    },
    {
      "cell_type": "markdown",
      "source": [
        "Let e = |x_i+1 - x_i| and tol be the acceptable level of error. Then function 1/x has no real roots, but the guesses x_i = -tol/4 and x_i+1 = tol/4 have an error of e = tol/2 and therefore are acceptable solutions."
      ],
      "metadata": {
        "id": "kkw4hLvdtnKa"
      }
    },
    {
      "cell_type": "markdown",
      "source": [
        "**19.3 Bisection**\n",
        "\n",
        "Intermediate Value Theorem states that if f(x) is a continuous function between a and b and sign(f(a) != f(b)), then there must be a c, such that a < c < b and f(c) = 0. Bisection method uses the intermediate value theorem iteratively to find roots. If there is some f(a) > 0 and f(b) < 0, then by intermediate value theorem there is some root on the open interval (a,b). Let m = (a+b)/2. If f(m) = 0 or is close enough, then m is a root. If f(m) > 0, then there is a root in the open interval (m,b), else if f(m) < 0 then there is one on the open interval (a,m). We repeat process until m is acceptably low."
      ],
      "metadata": {
        "id": "rVWcDxhUZRGl"
      }
    },
    {
      "cell_type": "code",
      "source": [
        "#function that approximates root r of f, bounded by a and b within  |f((a+b)/2)| < tol.\n",
        "\n",
        "import numpy as np\n",
        "\n",
        "def my_bisection(f, a, b, tol):\n",
        "    # approximates a root, R, of f bounded\n",
        "    # by a and b to within tolerance\n",
        "    # | f(m) | < tol with m the midpoint\n",
        "    # between a and b Recursive implementation\n",
        "\n",
        "    # check if a and b bound a root\n",
        "    if np.sign(f(a)) == np.sign(f(b)):\n",
        "        raise Exception(\n",
        "         \"The scalars a and b do not bound a root\")\n",
        "\n",
        "    # get midpoint\n",
        "    m = (a + b)/2\n",
        "\n",
        "    if np.abs(f(m)) < tol:\n",
        "        # stopping condition, report m as root\n",
        "        return m\n",
        "    elif np.sign(f(a)) == np.sign(f(m)):\n",
        "        # case where m is an improvement on a.\n",
        "        # Make recursive call with a = m\n",
        "        return my_bisection(f, m, b, tol)\n",
        "    elif np.sign(f(b)) == np.sign(f(m)):\n",
        "        # case where m is an improvement on b.\n",
        "        # Make recursive call with b = m\n",
        "        return my_bisection(f, a, m, tol)"
      ],
      "metadata": {
        "id": "E8gh6XXKvMRq"
      },
      "execution_count": 5,
      "outputs": []
    },
    {
      "cell_type": "code",
      "source": [
        "#sqrt(2) can be computed as root of function f(x) = x^2-2 starting a = 0 and b = 2.\n",
        "#We can use bisection to approximate sqrt(2) to a tolerance of |f(x)| < 0.1 and\n",
        "#|f(x)| < 0.01.\n",
        "\n",
        "f = lambda x: x**2 - 2\n",
        "\n",
        "r1 = my_bisection(f, 0, 2, 0.1)\n",
        "print(\"r1 =\", r1)\n",
        "r01 = my_bisection(f, 0, 2, 0.01)\n",
        "print(\"r01 =\", r01)\n",
        "\n",
        "print(\"f(r1) =\", f(r1))\n",
        "print(\"f(r01) =\", f(r01))\n"
      ],
      "metadata": {
        "colab": {
          "base_uri": "https://localhost:8080/"
        },
        "id": "9mvVjEWbvicq",
        "outputId": "f9272ba5-b1ae-4a77-99d4-56e57e4f438e"
      },
      "execution_count": 6,
      "outputs": [
        {
          "output_type": "stream",
          "name": "stdout",
          "text": [
            "r1 = 1.4375\n",
            "r01 = 1.4140625\n",
            "f(r1) = 0.06640625\n",
            "f(r01) = -0.00042724609375\n"
          ]
        }
      ]
    },
    {
      "cell_type": "code",
      "source": [
        "#using a = 2 and b = 4\n",
        "\n",
        "my_bisection(f, 2, 4, 0.01)"
      ],
      "metadata": {
        "colab": {
          "base_uri": "https://localhost:8080/",
          "height": 297
        },
        "id": "kBCdIpuQv_Fq",
        "outputId": "827d5cd0-fb0a-43dd-a93e-e30c0f3372b0"
      },
      "execution_count": 7,
      "outputs": [
        {
          "output_type": "error",
          "ename": "Exception",
          "evalue": "The scalars a and b do not bound a root",
          "traceback": [
            "\u001b[0;31m---------------------------------------------------------------------------\u001b[0m",
            "\u001b[0;31mException\u001b[0m                                 Traceback (most recent call last)",
            "\u001b[0;32m<ipython-input-7-9ce870eb32ed>\u001b[0m in \u001b[0;36m<cell line: 0>\u001b[0;34m()\u001b[0m\n\u001b[1;32m      1\u001b[0m \u001b[0;31m#using a = 2 and b= 4\u001b[0m\u001b[0;34m\u001b[0m\u001b[0;34m\u001b[0m\u001b[0m\n\u001b[1;32m      2\u001b[0m \u001b[0;34m\u001b[0m\u001b[0m\n\u001b[0;32m----> 3\u001b[0;31m \u001b[0mmy_bisection\u001b[0m\u001b[0;34m(\u001b[0m\u001b[0mf\u001b[0m\u001b[0;34m,\u001b[0m \u001b[0;36m2\u001b[0m\u001b[0;34m,\u001b[0m \u001b[0;36m4\u001b[0m\u001b[0;34m,\u001b[0m \u001b[0;36m0.01\u001b[0m\u001b[0;34m)\u001b[0m\u001b[0;34m\u001b[0m\u001b[0;34m\u001b[0m\u001b[0m\n\u001b[0m",
            "\u001b[0;32m<ipython-input-5-dc3c2dd2c6d1>\u001b[0m in \u001b[0;36mmy_bisection\u001b[0;34m(f, a, b, tol)\u001b[0m\n\u001b[1;32m     11\u001b[0m     \u001b[0;31m# check if a and b bound a root\u001b[0m\u001b[0;34m\u001b[0m\u001b[0;34m\u001b[0m\u001b[0m\n\u001b[1;32m     12\u001b[0m     \u001b[0;32mif\u001b[0m \u001b[0mnp\u001b[0m\u001b[0;34m.\u001b[0m\u001b[0msign\u001b[0m\u001b[0;34m(\u001b[0m\u001b[0mf\u001b[0m\u001b[0;34m(\u001b[0m\u001b[0ma\u001b[0m\u001b[0;34m)\u001b[0m\u001b[0;34m)\u001b[0m \u001b[0;34m==\u001b[0m \u001b[0mnp\u001b[0m\u001b[0;34m.\u001b[0m\u001b[0msign\u001b[0m\u001b[0;34m(\u001b[0m\u001b[0mf\u001b[0m\u001b[0;34m(\u001b[0m\u001b[0mb\u001b[0m\u001b[0;34m)\u001b[0m\u001b[0;34m)\u001b[0m\u001b[0;34m:\u001b[0m\u001b[0;34m\u001b[0m\u001b[0;34m\u001b[0m\u001b[0m\n\u001b[0;32m---> 13\u001b[0;31m         raise Exception(\n\u001b[0m\u001b[1;32m     14\u001b[0m          \"The scalars a and b do not bound a root\")\n\u001b[1;32m     15\u001b[0m \u001b[0;34m\u001b[0m\u001b[0m\n",
            "\u001b[0;31mException\u001b[0m: The scalars a and b do not bound a root"
          ]
        }
      ]
    },
    {
      "cell_type": "markdown",
      "source": [
        "**19.4 Newton-Raphson Method**\n",
        "\n",
        "The method finds roots through iterating Newton steps from x_0 until error < tolerance. This means that each iteration is a guess or approximation, which creates a linear approximation where each guess is improved."
      ],
      "metadata": {
        "id": "vB5F1TlwZROB"
      }
    },
    {
      "cell_type": "code",
      "source": [
        "#sqrt(2) is root of function f(x) = x^2 - 2. Use 1.4 at starting point x_0 we can estimate\n",
        "#sqrt(2)\n",
        "\n",
        "import numpy as np\n",
        "\n",
        "f = lambda x: x**2 - 2\n",
        "f_prime = lambda x: 2*x\n",
        "newton_raphson = 1.4 - (f(1.4))/(f_prime(1.4))\n",
        "\n",
        "print(\"newton_raphson =\", newton_raphson)\n",
        "print(\"sqrt(2) =\", np.sqrt(2))"
      ],
      "metadata": {
        "colab": {
          "base_uri": "https://localhost:8080/"
        },
        "id": "HndUnj8bx0Ep",
        "outputId": "c99c2eaf-a711-4a31-d3d1-c30ee0f7240f"
      },
      "execution_count": 8,
      "outputs": [
        {
          "output_type": "stream",
          "name": "stdout",
          "text": [
            "newton_raphson = 1.4142857142857144\n",
            "sqrt(2) = 1.4142135623730951\n"
          ]
        }
      ]
    },
    {
      "cell_type": "code",
      "source": [
        "#newton raphson function to estimate roots of f with |f(x)| as error measurement\n",
        "\n",
        "def my_newton(f, df, x0, tol):\n",
        "    # output is an estimation of the root of f\n",
        "    # using the Newton Raphson method\n",
        "    # recursive implementation\n",
        "    if abs(f(x0)) < tol:\n",
        "        return x0\n",
        "    else:\n",
        "        return my_newton(f, df, x0 - f(x0)/df(x0), tol)\n",
        "\n",
        "#estimating sqrt(2) with tolernace of 1e-6 starting at x_0 = 1.5\n",
        "\n",
        "estimate = my_newton(f, f_prime, 1.5, 1e-6)\n",
        "print(\"estimate =\", estimate)\n",
        "print(\"sqrt(2) =\", np.sqrt(2))\n"
      ],
      "metadata": {
        "colab": {
          "base_uri": "https://localhost:8080/"
        },
        "id": "yl4FzaWdyByS",
        "outputId": "b24b9c9d-c5c2-48e5-83fa-8e300dae9441"
      },
      "execution_count": 10,
      "outputs": [
        {
          "output_type": "stream",
          "name": "stdout",
          "text": [
            "estimate = 1.4142135623746899\n",
            "sqrt(2) = 1.4142135623730951\n"
          ]
        }
      ]
    },
    {
      "cell_type": "markdown",
      "source": [
        "Since values are close and within tolerance, the solution is converge upon."
      ],
      "metadata": {
        "id": "wrBxCcKhyuQB"
      }
    },
    {
      "cell_type": "code",
      "source": [
        "#single newton step to get improved approximation of function f(x) = x^3 + 3x^2 -2x -5\n",
        "#with x_0 = 0.29\n",
        "\n",
        "x0 = 0.29\n",
        "x1 = x0-(x0**3+3*x0**2-2*x0-5)/(3*x0**2+6*x0-2)\n",
        "print(\"x1 =\", x1)"
      ],
      "metadata": {
        "colab": {
          "base_uri": "https://localhost:8080/"
        },
        "id": "Xklk4FMtygoB",
        "outputId": "bad413bf-d047-425c-96b8-89287ab33f78"
      },
      "execution_count": 11,
      "outputs": [
        {
          "output_type": "stream",
          "name": "stdout",
          "text": [
            "x1 = -688.4516883116648\n"
          ]
        }
      ]
    },
    {
      "cell_type": "markdown",
      "source": [
        "**19.5 Root Finding in Python**\n",
        "\n",
        "We can use scipy libraries instead of manual computation which saves time.\n"
      ],
      "metadata": {
        "id": "KwC3qLvay55f"
      }
    },
    {
      "cell_type": "code",
      "source": [
        "from scipy.optimize import fsolve\n",
        "\n",
        "f = lambda x: x**3-100*x**2-x+100\n",
        "\n",
        "fsolve(f, [2, 80])\n",
        "\n",
        "#valid solution for roots"
      ],
      "metadata": {
        "colab": {
          "base_uri": "https://localhost:8080/"
        },
        "id": "DYJYd3RUzG-C",
        "outputId": "22040500-1818-4952-b889-da637859c18f"
      },
      "execution_count": 13,
      "outputs": [
        {
          "output_type": "execute_result",
          "data": {
            "text/plain": [
              "array([  1., 100.])"
            ]
          },
          "metadata": {},
          "execution_count": 13
        }
      ]
    },
    {
      "cell_type": "code",
      "source": [
        "\n",
        "f = lambda x: x**2-230*x**3-x+1000\n",
        "\n",
        "fsolve(f, [2, 80])"
      ],
      "metadata": {
        "colab": {
          "base_uri": "https://localhost:8080/"
        },
        "id": "o9_mrzgpzOea",
        "outputId": "289afa7b-85a3-4963-b6dd-ddac2545ed39"
      },
      "execution_count": 14,
      "outputs": [
        {
          "output_type": "execute_result",
          "data": {
            "text/plain": [
              "array([1.63270174, 1.63270174])"
            ]
          },
          "metadata": {},
          "execution_count": 14
        }
      ]
    }
  ]
}