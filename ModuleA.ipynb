{
  "nbformat": 4,
  "nbformat_minor": 0,
  "metadata": {
    "colab": {
      "provenance": [],
      "authorship_tag": "ABX9TyONHAcLnwrxpgCo5uo0k1Wc",
      "include_colab_link": true
    },
    "kernelspec": {
      "name": "python3",
      "display_name": "Python 3"
    },
    "language_info": {
      "name": "python"
    }
  },
  "cells": [
    {
      "cell_type": "markdown",
      "metadata": {
        "id": "view-in-github",
        "colab_type": "text"
      },
      "source": [
        "<a href=\"https://colab.research.google.com/github/mattheweisenberg6/MAT421/blob/main/ModuleA.ipynb\" target=\"_parent\"><img src=\"https://colab.research.google.com/assets/colab-badge.svg\" alt=\"Open In Colab\"/></a>"
      ]
    },
    {
      "cell_type": "markdown",
      "source": [
        "\n",
        "**9.1 Base-N and Binary**\n",
        "\n",
        "We can number system with names of base-n. Some common based-n systems are base10 (decimal system) and base2 (binary).\n",
        "\n",
        "These base-n number systems use the n value to display numbers.An example base10 which uses 0-9 and 10 to some kth power. Binary instead uses digits (bits) 0 and 1 with 2 to some kth power."
      ],
      "metadata": {
        "id": "mcMYWz0eHaBM"
      }
    },
    {
      "cell_type": "code",
      "source": [
        "#147.3 (base10)\n",
        "\n",
        "147.3 == 1*(10**2) + 4*(10**1) + 7*(10**0) + 3*(10**-1)"
      ],
      "metadata": {
        "colab": {
          "base_uri": "https://localhost:8080/"
        },
        "id": "qlMp4KEcHlTU",
        "outputId": "2242d665-4502-4c47-d040-0c28da84a5f7"
      },
      "execution_count": 37,
      "outputs": [
        {
          "output_type": "execute_result",
          "data": {
            "text/plain": [
              "True"
            ]
          },
          "metadata": {},
          "execution_count": 37
        }
      ]
    },
    {
      "cell_type": "code",
      "source": [
        "#121 (base3) == 16(base 10)\n",
        "\n",
        "1*(3**2) + 2*(3**1) + 1*(3**0) == 1*(10**1) + 6*(10**0)"
      ],
      "metadata": {
        "colab": {
          "base_uri": "https://localhost:8080/"
        },
        "id": "uURGdiAJLNRk",
        "outputId": "a738dd68-b4cd-4395-c0a6-3c393f7cd7bf"
      },
      "execution_count": 38,
      "outputs": [
        {
          "output_type": "execute_result",
          "data": {
            "text/plain": [
              "True"
            ]
          },
          "metadata": {},
          "execution_count": 38
        }
      ]
    },
    {
      "cell_type": "code",
      "source": [
        "#11 (base 10) in binary\n",
        "\n",
        "1*(10**1) + 1*(10**0) == 1*(2**3) + 0*(2**2) + 1*(2**1) + 1*(2**0) #11(base10) == 1011(base2)"
      ],
      "metadata": {
        "colab": {
          "base_uri": "https://localhost:8080/"
        },
        "id": "4-usna3qLUYM",
        "outputId": "8bab91d7-6d8a-4306-feed-61dcdc8ef0cf"
      },
      "execution_count": 41,
      "outputs": [
        {
          "output_type": "execute_result",
          "data": {
            "text/plain": [
              "True"
            ]
          },
          "metadata": {},
          "execution_count": 41
        }
      ]
    },
    {
      "cell_type": "code",
      "source": [
        "#Binary addition and multiplication\n",
        "\n",
        "37 == 1*(2**5) + 1*(2**2) + 1*(2**0) #100101\n",
        "17 == 1*(2**4) + 1*(2**0) # 10001\n",
        "\n",
        "#37 + 17 = 54\n",
        "\n",
        "54 == 1*(2**5) + 1*(2**4) + 1*(2**2) + 1*(2**1) # 110110\n",
        "\n",
        "# 100101 + 10001 = 110110\n",
        "\n",
        "#37 * 17 = 629 (base10)\n",
        "#100101 * 10001 = 1001010000 (base2)\n",
        "\n",
        "629 == 1*(2**9) + 1*(2**6) + 1*(2**5) + 1*(2**4) + 1*(2**2) + 1*(2**0)\n",
        "\n"
      ],
      "metadata": {
        "colab": {
          "base_uri": "https://localhost:8080/"
        },
        "id": "Zw_lA5dmLzvM",
        "outputId": "4e189385-6d43-49f8-945d-3f73fa92cb21"
      },
      "execution_count": 49,
      "outputs": [
        {
          "output_type": "execute_result",
          "data": {
            "text/plain": [
              "True"
            ]
          },
          "metadata": {},
          "execution_count": 49
        }
      ]
    },
    {
      "cell_type": "markdown",
      "source": [
        "**9.2 Floating Point Numbers**\n",
        "\n",
        "In computers, we use floating point numbers or floats to achieve percision with a given number of bits. There are three parts of a float, that being the sign indicator, exponent, and fraction. Python maps to IEEE754 double precision with 64 bits, where 1 is for sign, 11 for exponent, and 52 for fraction. We can get float information with sys package as shown. A float can be shown as (-1)^s(2^(e-1023))(1+f)."
      ],
      "metadata": {
        "id": "H8wDDUgCOrX0"
      }
    },
    {
      "cell_type": "code",
      "source": [
        "import sys\n",
        "sys.float_info"
      ],
      "metadata": {
        "colab": {
          "base_uri": "https://localhost:8080/"
        },
        "id": "3mhyyGQVPn88",
        "outputId": "71b0696e-d159-4acc-881b-b18ecf46154c"
      },
      "execution_count": 50,
      "outputs": [
        {
          "output_type": "execute_result",
          "data": {
            "text/plain": [
              "sys.float_info(max=1.7976931348623157e+308, max_exp=1024, max_10_exp=308, min=2.2250738585072014e-308, min_exp=-1021, min_10_exp=-307, dig=15, mant_dig=53, epsilon=2.220446049250313e-16, radix=2, rounds=1)"
            ]
          },
          "metadata": {},
          "execution_count": 50
        }
      ]
    },
    {
      "cell_type": "code",
      "source": [
        "# 1 10000000010 1000000000000000000000000000000000000000000000000000 (IEEE754) to base10 would be -12\n",
        "\n",
        "sign = (-1)^0\n",
        "exponent = 1*(2**10) + 1*(2**1) - 1023\n",
        "fraction = 1*(1/2**1) + 1\n",
        "\n",
        "result = sign * (2**exponent) * fraction\n",
        "\n",
        "result # -12.0"
      ],
      "metadata": {
        "colab": {
          "base_uri": "https://localhost:8080/"
        },
        "id": "NtG4DCkiQSFk",
        "outputId": "d14c56ec-7817-4654-a560-72c702d2d620"
      },
      "execution_count": 70,
      "outputs": [
        {
          "output_type": "execute_result",
          "data": {
            "text/plain": [
              "-12.0"
            ]
          },
          "metadata": {},
          "execution_count": 70
        }
      ]
    },
    {
      "cell_type": "markdown",
      "source": [
        " We can find the spacing between numbers with numpy as well."
      ],
      "metadata": {
        "id": "-b6voYgjR_wk"
      }
    },
    {
      "cell_type": "code",
      "source": [
        "import numpy as np\n",
        "\n",
        "np.spacing(1e9)"
      ],
      "metadata": {
        "colab": {
          "base_uri": "https://localhost:8080/"
        },
        "id": "YnPrnCvz-3af",
        "outputId": "ed25ee42-6a59-47fc-8123-c0198c9d26d0"
      },
      "execution_count": 27,
      "outputs": [
        {
          "output_type": "execute_result",
          "data": {
            "text/plain": [
              "1.1920928955078125e-07"
            ]
          },
          "metadata": {},
          "execution_count": 27
        }
      ]
    },
    {
      "cell_type": "code",
      "source": [
        "\n",
        "#adding a number less than half the gap will result in the same number\n",
        "\n",
        "1e9 == (1e9 + np.spacing(1e9)/3)"
      ],
      "metadata": {
        "colab": {
          "base_uri": "https://localhost:8080/"
        },
        "id": "QHDEitoO7JXP",
        "outputId": "e34e6dd8-e8c3-4285-efae-1d3bf135adb4"
      },
      "execution_count": 2,
      "outputs": [
        {
          "output_type": "execute_result",
          "data": {
            "text/plain": [
              "True"
            ]
          },
          "metadata": {},
          "execution_count": 2
        }
      ]
    },
    {
      "cell_type": "markdown",
      "source": [
        "Overflow and underflow can also occur when the value doesn't fit within the alotted 64 bits for a float  "
      ],
      "metadata": {
        "id": "hxpnsqAE7v9P"
      }
    },
    {
      "cell_type": "code",
      "source": [
        "import sys\n",
        "\n",
        "#Overflow\n",
        "\n",
        "sys.float_info.max + sys.float_info.max"
      ],
      "metadata": {
        "colab": {
          "base_uri": "https://localhost:8080/"
        },
        "id": "GuOd4k4W73sX",
        "outputId": "b97a3f30-77c0-44d1-9487-2f5384c89ffd"
      },
      "execution_count": 4,
      "outputs": [
        {
          "output_type": "execute_result",
          "data": {
            "text/plain": [
              "inf"
            ]
          },
          "metadata": {},
          "execution_count": 4
        }
      ]
    },
    {
      "cell_type": "code",
      "source": [
        "#Underflow\n",
        "\n",
        "2**(-1075)"
      ],
      "metadata": {
        "colab": {
          "base_uri": "https://localhost:8080/"
        },
        "id": "VHyWucn-8AZP",
        "outputId": "b18d8c78-3ebd-4b99-f857-48116147380a"
      },
      "execution_count": 6,
      "outputs": [
        {
          "output_type": "execute_result",
          "data": {
            "text/plain": [
              "0.0"
            ]
          },
          "metadata": {},
          "execution_count": 6
        }
      ]
    },
    {
      "cell_type": "markdown",
      "source": [
        "**9.3 Round-off Errors**\n",
        "Since a value has a limited number of bits, there is a round-off that occurs to create an approximation of the value. The difference between the actual value and approximation is called the round-off error."
      ],
      "metadata": {
        "id": "6lQqRjjc8G9o"
      }
    },
    {
      "cell_type": "code",
      "source": [
        "#Round-off error by floating-point arithmetic\n",
        "\n",
        "6.9 - 6.295 == 0.605 #floating points cannot be exactly given so the value is approximated and thus outputs false\n"
      ],
      "metadata": {
        "colab": {
          "base_uri": "https://localhost:8080/"
        },
        "id": "iQ-3yWSz8zVP",
        "outputId": "472c4ab8-7243-41c6-d94e-a22b76cd35f6"
      },
      "execution_count": 7,
      "outputs": [
        {
          "output_type": "execute_result",
          "data": {
            "text/plain": [
              "False"
            ]
          },
          "metadata": {},
          "execution_count": 7
        }
      ]
    },
    {
      "cell_type": "code",
      "source": [
        "6.9 - 6.295"
      ],
      "metadata": {
        "colab": {
          "base_uri": "https://localhost:8080/"
        },
        "id": "A5RZmnla9QcH",
        "outputId": "7d4427ee-2933-430e-c2b3-4dedbf33d98a"
      },
      "execution_count": 8,
      "outputs": [
        {
          "output_type": "execute_result",
          "data": {
            "text/plain": [
              "0.6050000000000004"
            ]
          },
          "metadata": {},
          "execution_count": 8
        }
      ]
    },
    {
      "cell_type": "code",
      "source": [
        "#With the round function, we can do proper addition\n",
        "\n",
        "round(0.3 + 0.2 + 0.3, 5)  == round(0.8, 5)"
      ],
      "metadata": {
        "colab": {
          "base_uri": "https://localhost:8080/"
        },
        "id": "43dFVi0s9YMf",
        "outputId": "446c1a36-4be1-4178-bafd-eb0bbdfb54fb"
      },
      "execution_count": 10,
      "outputs": [
        {
          "output_type": "execute_result",
          "data": {
            "text/plain": [
              "True"
            ]
          },
          "metadata": {},
          "execution_count": 10
        }
      ]
    },
    {
      "cell_type": "code",
      "source": [
        "#Accumulation of round-off error\n",
        "\n",
        "# If we only do this once\n",
        "3 + 2/7 - 2/7"
      ],
      "metadata": {
        "colab": {
          "base_uri": "https://localhost:8080/"
        },
        "id": "FE5YV9Np9sZX",
        "outputId": "7917f1c2-6eab-447c-b01c-08e48293dbc5"
      },
      "execution_count": 26,
      "outputs": [
        {
          "output_type": "execute_result",
          "data": {
            "text/plain": [
              "3.0"
            ]
          },
          "metadata": {},
          "execution_count": 26
        }
      ]
    },
    {
      "cell_type": "code",
      "source": [
        "#If we do it 100 times then errors accumulate over each iteration as shown in result.\n",
        "\n",
        "def add_and_subtract(iterations):\n",
        "    result = 3\n",
        "\n",
        "    for i in range(iterations):\n",
        "        result += (2/7)\n",
        "\n",
        "    for i in range(iterations):\n",
        "        result -= (2/7)\n",
        "    return result\n",
        "\n",
        "add_and_subtract(100)"
      ],
      "metadata": {
        "colab": {
          "base_uri": "https://localhost:8080/"
        },
        "id": "O4LZJkIu95LX",
        "outputId": "57ce1ec5-5827-4f45-f328-15fa9e628a12"
      },
      "execution_count": 24,
      "outputs": [
        {
          "output_type": "execute_result",
          "data": {
            "text/plain": [
              "2.9999999999999982"
            ]
          },
          "metadata": {},
          "execution_count": 24
        }
      ]
    },
    {
      "cell_type": "code",
      "source": [
        "# If we do this 10000 times more and more errors accumulate.\n",
        "add_and_subtract(10000)"
      ],
      "metadata": {
        "colab": {
          "base_uri": "https://localhost:8080/"
        },
        "id": "k7rXa3zB-JOH",
        "outputId": "24a121a3-4119-4332-c698-d7a239e861ca"
      },
      "execution_count": 25,
      "outputs": [
        {
          "output_type": "execute_result",
          "data": {
            "text/plain": [
              "2.9999999999998916"
            ]
          },
          "metadata": {},
          "execution_count": 25
        }
      ]
    }
  ]
}