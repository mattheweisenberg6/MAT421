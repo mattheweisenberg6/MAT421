{
  "nbformat": 4,
  "nbformat_minor": 0,
  "metadata": {
    "colab": {
      "provenance": [],
      "authorship_tag": "ABX9TyOUroRpaRJt85R331fpxqix",
      "include_colab_link": true
    },
    "kernelspec": {
      "name": "python3",
      "display_name": "Python 3"
    },
    "language_info": {
      "name": "python"
    }
  },
  "cells": [
    {
      "cell_type": "markdown",
      "metadata": {
        "id": "view-in-github",
        "colab_type": "text"
      },
      "source": [
        "<a href=\"https://colab.research.google.com/github/mattheweisenberg6/MAT421/blob/main/FinalPaper.ipynb\" target=\"_parent\"><img src=\"https://colab.research.google.com/assets/colab-badge.svg\" alt=\"Open In Colab\"/></a>"
      ]
    },
    {
      "cell_type": "markdown",
      "source": [
        "## **Introduction**\n",
        "\n",
        "Numerical integration is a cornerstone of computational mathematics, enabling the approximation of definite integrals for functions where analytical solutions are either intractable or unavailable. These methods are critical in fields ranging from physics and engineering to economics and data science, where integrals often represent quantities such as areas, volumes, or accumulated effects over time. Common numerical integration techniques, such as the Trapezoidal Rule and Simpson’s Rule, approximate the area under a curve by discretizing the integration interval into simpler geometric shapes, such as trapezoids or parabolic segments. While these methods are well-established, their implementation and verification can be time-consuming, particularly when ensuring accuracy across diverse functions or when teaching these concepts to students.\n",
        "\n",
        "The advent of Large Language Models (LLMs) has opened new possibilities for automating and enhancing mathematical computations. LLMs, such as those developed by OpenAI or DeepSeek, are trained on vast datasets of text and code, enabling them to understand mathematical problems, generate executable code, and provide natural language explanations. In the context of numerical integration, an LLM-based agent can interpret problem statements (e.g., “Compute the integral of $f(x) = x^2 + 2x + 1$ from 0 to 1”), produce Python code for numerical methods, and verify results by comparing them to analytical solutions or high-precision numerical tools like SciPy’s quad function. This capability not only streamlines computation but also serves as an educational tool, offering step-by-step explanations that enhance understanding of numerical methods.\n",
        "\n",
        "This project develops an LLM-powered AI agent to solve and verify numerical integration problems using the Trapezoidal Rule and Simpson’s Rule. The agent leverages the DeepSeek API, a cost-effective alternative to other LLM APIs, to parse mathematical problems, generate Python code, and explain the results. We test the agent on a dataset of mathematical functions with known analytical integrals, including polynomials, trigonometric functions, and exponentials. By comparing the agent’s results to analytical solutions and established numerical methods, we evaluate its accuracy and reliability. The project also explores the broader implications of LLMs in computational mathematics, particularly their potential to automate complex tasks and assist in educational settings.\n",
        "\n",
        "The motivation for this project stems from the intersection of numerical methods and artificial intelligence, both of which are central to modern scientific computing. Numerical integration, as taught in MAT 421, requires a deep understanding of mathematical theory, algorithmic implementation, and error analysis. By integrating LLMs, we aim to demonstrate how AI can augment traditional numerical methods, making them more accessible and efficient. The project aligns with the course’s focus on numerical methods while showcasing the innovative application of LLMs, as explored in related coursework on neural networks and AI agents (e.g., “Neural Networks and AI Agents Powered by Large Language Models” [2]).\n",
        "\n",
        "In the following sections, we detail the mathematical foundations of the Trapezoidal Rule and Simpson’s Rule, describe the implementation of the LLM agent, present the dataset used for testing, and discuss the results. This work contributes to the growing field of AI-assisted mathematics, offering a practical example of how LLMs can enhance the study and application of numerical methods."
      ],
      "metadata": {
        "id": "X2CjzE2yjlrT"
      }
    },
    {
      "cell_type": "markdown",
      "source": [
        "## **Math Method**\n",
        "\n",
        "This section details the mathematical foundations of two numerical integration methods used in this project: the Trapezoidal Rule and Simpson’s Rule. These methods approximate the definite integral $\\int_a^b f(x) \\, dx$, which represents the area under the curve of a function $f(x)$ over the interval $[a, b]$. Both methods are widely used in computational mathematics due to their simplicity and effectiveness, and they serve as the core techniques implemented by the LLM agent in this project. Below, we derive the formulas for each method, explain their numerical approximations, and analyze their error characteristics.\n",
        "\n",
        "### Trapezoidal Rule\n",
        "\n",
        "The Trapezoidal Rule approximates the definite integral by dividing the interval $[a, b]$ into $n$ subintervals of equal width and approximating the area under the curve in each subinterval as a trapezoid. The method is based on linear interpolation between function values at the endpoints of each subinterval.\n",
        "\n",
        "#### Derivation\n",
        "Consider the interval $[a, b]$ divided into $n$ subintervals, each of width $h = \\frac{b - a}{n}$. The points of subdivision are $x_i = a + i h$, where $i = 0, 1, \\dots, n$. For each subinterval $[x_i, x_{i+1}]$, the integral $\\int_{x_i}^{x_{i+1}} f(x) \\, dx$ is approximated by the area of a trapezoid with vertices at $(x_i, 0)$, $(x_i, f(x_i))$, $(x_{i+1}, f(x_{i+1}))$, and $(x_{i+1}, 0)$. The area of this trapezoid is:\n",
        "\n",
        "$$\n",
        "\\int_{x_i}^{x_{i+1}} f(x) \\, dx \\approx \\frac{h}{2} [f(x_i) + f(x_{i+1})]\n",
        "$$\n",
        "\n",
        "Summing the contributions of all $n$ subintervals, the total integral is:\n",
        "\n",
        "$$\n",
        "\\int_a^b f(x) \\, dx \\approx \\sum_{i=0}^{n-1} \\frac{h}{2} [f(x_i) + f(x_{i+1})]\n",
        "$$\n",
        "\n",
        "Expanding the sum, we get:\n",
        "\n",
        "$$\n",
        "\\int_a^b f(x) \\, dx \\approx \\frac{h}{2} [f(x_0) + f(x_1) + f(x_1) + f(x_2) + \\dots + f(x_{n-1}) + f(x_n)]\n",
        "$$\n",
        "\n",
        "Since each interior point $x_i$ (for $i = 1, \\dots, n-1$) appears twice, the formula simplifies to:\n",
        "\n",
        "$$\n",
        "\\int_a^b f(x) \\, dx \\approx \\frac{h}{2} \\left[ f(x_0) + 2 \\sum_{i=1}^{n-1} f(x_i) + f(x_n) \\right]\n",
        "$$\n",
        "\n",
        "where $h = \\frac{b - a}{n}$ and $x_i = a + i h$. This is the Trapezoidal Rule formula.\n",
        "\n",
        "#### Error Analysis\n",
        "The error in the Trapezoidal Rule arises from approximating the function $f(x)$ with a linear polynomial in each subinterval. For a single subinterval $[x_i, x_{i+1}]$, the error is given by:\n",
        "\n",
        "$$\n",
        "E_i = -\\frac{h^3}{12} f''(\\xi_i), \\quad \\xi_i \\in [x_i, x_{i+1}]\n",
        "$$\n",
        "\n",
        "Summing over all subintervals, the total error for the Trapezoidal Rule is:\n",
        "\n",
        "$$\n",
        "E = -\\frac{h^2 (b - a)}{12} f''(\\xi), \\quad \\xi \\in [a, b]\n",
        "$$\n",
        "\n",
        "The error is proportional to $h^2$, or equivalently $O(n^{-2})$, indicating that doubling the number of subintervals reduces the error by a factor of approximately 4. The method is exact for linear functions but less accurate for functions with significant curvature (large $f''(x)$).\n",
        "\n",
        "### Simpson’s Rule\n",
        "\n",
        "Simpson’s Rule offers a more accurate approximation by fitting a quadratic polynomial through three points in each pair of subintervals, requiring an even number of subintervals ($n$ must be even). This method captures more of the function’s curvature, leading to a smaller error compared to the Trapezoidal Rule.\n",
        "\n",
        "#### Derivation\n",
        "Divide the interval $[a, b]$ into $n$ subintervals (with $n$ even), each of width $h = \\frac{b - a}{n}$, and define points $x_i = a + i h$. Simpson’s Rule approximates the integral over two subintervals $[x_i, x_{i+2}]$ by fitting a quadratic polynomial through the points $(x_i, f(x_i))$, $(x_{i+1}, f(x_{i+1}))$, and $(x_{i+2}, f(x_{i+2}))$.\n",
        "\n",
        "The integral of a quadratic polynomial $p(x)$ over $[x_i, x_{i+2}] = [x_i, x_i + 2h]$ can be computed exactly. Using a change of variables, consider the standard interval $[-h, h]$ and a quadratic polynomial $p(t) = a t^2 + b t + c$. The integral is:\n",
        "\n",
        "$$\n",
        "\\int_{-h}^{h} p(t) \\, dt = \\int_{-h}^{h} (a t^2 + b t + c) \\, dt = \\left[ \\frac{a t^3}{3} + \\frac{b t^2}{2} + c t \\right]_{-h}^{h} = \\frac{2a h^3}{3} + 2c h\n",
        "$$\n",
        "\n",
        "Evaluate $p(t)$ at $t = -h$, $t = 0$, and $t = h$:\n",
        "- $p(-h) = a h^2 - b h + c$\n",
        "- $p(0) = c$\n",
        "- $p(h) = a h^2 + b h + c$\n",
        "\n",
        "The integral can be expressed in terms of $p(-h)$, $p(0)$, and $p(h)$:\n",
        "\n",
        "$$\n",
        "\\int_{-h}^{h} p(t) \\, dt = \\frac{h}{3} [p(-h) + 4 p(0) + p(h)]\n",
        "$$\n",
        "\n",
        "Mapping back to $[x_i, x_{i+2}]$, the integral over two subintervals is:\n",
        "\n",
        "$$\n",
        "\\int_{x_i}^{x_{i+2}} f(x) \\, dx \\approx \\frac{h}{3} [f(x_i) + 4 f(x_{i+1}) + f(x_{i+2})]\n",
        "$$\n",
        "\n",
        "Summing over all pairs of subintervals ($n/2$ pairs), the total integral is:\n",
        "\n",
        "$$\n",
        "\\int_a^b f(x) \\, dx \\approx \\frac{h}{3} \\left[ f(x_0) + 4 f(x_1) + 2 f(x_2) + 4 f(x_3) + \\dots + 2 f(x_{n-2}) + 4 f(x_{n-1}) + f(x_n) \\right]\n",
        "$$\n",
        "\n",
        "This can be written compactly as:\n",
        "\n",
        "$$\n",
        "\\int_a^b f(x) \\, dx \\approx \\frac{h}{3} \\left[ f(x_0) + 4 \\sum_{i=1,3,\\dots}^{n-1} f(x_i) + 2 \\sum_{i=2,4,\\dots}^{n-2} f(x_i) + f(x_n) \\right]\n",
        "$$\n",
        "\n",
        "This is the Simpson’s Rule formula.\n",
        "\n",
        "#### Error Analysis\n",
        "The error in Simpson’s Rule comes from approximating $f(x)$ with a quadratic polynomial. For a single pair of subintervals $[x_i, x_{i+2}]$, the error is:\n",
        "\n",
        "$$\n",
        "E_i = -\\frac{h^5}{90} f^{(4)}(\\xi_i), \\quad \\xi_i \\in [x_i, x_{i+2}]\n",
        "$$\n",
        "\n",
        "Summing over $n/2$ pairs, the total error is:\n",
        "\n",
        "$$\n",
        "E = -\\frac{h^4 (b - a)}{180} f^{(4)}(\\xi), \\quad \\xi \\in [a, b]\n",
        "$$\n",
        "\n",
        "The error is proportional to $h^4$, or $O(n^{-4})$, meaning that doubling the number of subintervals reduces the error by a factor of approximately 16. Simpson’s Rule is exact for polynomials up to degree 3 and is more accurate than the Trapezoidal Rule for smooth functions with small higher-order derivatives.\n",
        "\n",
        "### Application in the Project\n",
        "\n",
        "The LLM agent implements both the Trapezoidal Rule and Simpson’s Rule to approximate definite integrals. By generating Python code for these methods, the agent computes integrals for a variety of test functions and compares the results to analytical solutions or high-precision numerical methods (e.g., SciPy’s `quad`). The mathematical rigor of these methods ensures reliable approximations, while their distinct error characteristics allow us to evaluate the trade-offs between simplicity (Trapezoidal Rule) and accuracy (Simpson’s Rule). The agent’s ability to explain these methods and their results enhances its utility as both a computational and educational tool.\n"
      ],
      "metadata": {
        "id": "rSANOTgvkZG5"
      }
    },
    {
      "cell_type": "markdown",
      "source": [
        "## **Implementation**\n",
        "This section outlines the Python implementation of an LLM-powered AI agent designed to solve numerical integration problems using the Trapezoidal Rule and Simpson’s Rule. The agent utilizes the DeepSeek API to interpret problem statements, generate Python code for the numerical methods, and verify results by comparing them to analytical solutions or SciPy’s high-precision quad function. The implementation is modular, reusable, and capable of handling various integration problems, serving as both a computational tool and an educational resource. Below, we describe the key components: environment setup, numerical integration functions, and the LLM agent’s workflow.\n",
        "\n",
        "### Environment Setup\n",
        "The implementation relies on several Python libraries: numpy for numerical computations, scipy for high-precision integration, and the deepseek package for interacting with the DeepSeek API. These are installed in the Jupyter Notebook environment using pip. The DeepSeek API key is set as an environment variable to authenticate requests. For demonstration, we use a fake API key (ds-sk-HK8vN7qzP1rX2E5tG9bVwM3aYdL6XpQo); users must replace it with their actual key from the DeepSeek platform."
      ],
      "metadata": {
        "id": "3JE8dYR_mcUU"
      }
    },
    {
      "cell_type": "code",
      "source": [
        "# Install required libraries\n",
        "!pip install deepseek numpy scipy\n",
        "\n",
        "import numpy as np\n",
        "from scipy.integrate import quad\n",
        "import os\n",
        "from deepseek import DeepSeekClient\n",
        "\n",
        "# Set up DeepSeek API key (replace with actual key)\n",
        "os.environ['DEEPSEEK_API_KEY'] = 'ds-sk-HK8vN7qzP1rX2E5tG9bVwM3aYdL6XpQo'\n",
        "client = DeepSeekClient()"
      ],
      "metadata": {
        "id": "ScLiIn5cmrCG"
      },
      "execution_count": null,
      "outputs": []
    },
    {
      "cell_type": "markdown",
      "source": [
        "### Numerical Integration Functions\n",
        "The Trapezoidal Rule and Simpson’s Rule are implemented as Python functions to compute definite integrals. Each function takes the function to integrate (f), interval bounds (a, b), and number of subintervals (n) as inputs. The implementations adhere to the mathematical formulas derived in the Math Method section.\n",
        "\n",
        "### Trapezoidal Rule Implementation\n",
        "The Trapezoidal Rule approximates the integral by summing trapezoid areas across n subintervals. The function is:"
      ],
      "metadata": {
        "id": "Wnm0fjcKmril"
      }
    },
    {
      "cell_type": "code",
      "source": [
        "def trapezoidal_rule(f, a, b, n):\n",
        "    h = (b - a) / n\n",
        "    x = np.linspace(a, b, n + 1)\n",
        "    y = f(x)\n",
        "    return (h / 2) * (y[0] + 2 * np.sum(y[1:-1]) + y[-1])"
      ],
      "metadata": {
        "id": "Vu7XB8-vm9IL"
      },
      "execution_count": null,
      "outputs": []
    },
    {
      "cell_type": "markdown",
      "source": [
        "This function:\n",
        "\n",
        "\n",
        "*   Calculates the subinterval width h = (b - a) / n.\n",
        "*   Generates n + 1 evenly spaced points using np.linspace.\n",
        "*   Evaluates f at these points.\n",
        "*   Applies the Trapezoidal Rule formula: $\\frac{h}{2} \\left[ f(x_0) + 2 \\sum_{i=1}^{n-1} f(x_i) + f(x_n) \\right]$.\n",
        "\n",
        "### Simpson’s Rule Implementation\n",
        "Simpson’s Rule uses quadratic polynomials over pairs of subintervals, requiring n to be even. The function is:"
      ],
      "metadata": {
        "id": "arh8En5InBrb"
      }
    },
    {
      "cell_type": "code",
      "source": [
        "def simpsons_rule(f, a, b, n):\n",
        "    if n % 2 != 0:\n",
        "        raise ValueError(\"n must be even for Simpson’s Rule\")\n",
        "    h = (b - a) / n\n",
        "    x = np.linspace(a, b, n + 1)\n",
        "    y = f(x)\n",
        "    return (h / 3) * (y[0] + 4 * np.sum(y[1:-1:2]) + 2 * np.sum(y[2:-2:2]) + y[-1])"
      ],
      "metadata": {
        "id": "m3x-H-x0nT8w"
      },
      "execution_count": null,
      "outputs": []
    },
    {
      "cell_type": "markdown",
      "source": [
        "This function:\n",
        "\n",
        "Ensures n is even, raising an error otherwise.\n",
        "Computes h and generates points as in the Trapezoidal Rule.\n",
        "Evaluates f at these points.\n",
        "Applies the Simpson’s Rule formula: $\\frac{h}{3} \\left[ f(x_0) + 4 \\sum_{i=1,3,\\dots}^{n-1} f(x_i) + 2 \\sum_{i=2,4,\\dots}^{n-2} f(x_i) + f(x_n) \\right]$.\n",
        "\n",
        "### LLM Agent Workflow\n",
        "The LLM agent is implemented in a Python function, llm_numerical_integration, which uses the DeepSeek API to process numerical integration problems. The function accepts a problem statement (e.g., “Compute the integral of $f(x) = x^2 + 2x + 1$ from 0 to 1”) and performs four tasks:\n",
        "*   Parses the function, interval, and parameters.\n",
        "*   Generates Python code for the Trapezoidal Rule and Simpson’s Rule with n = 100 subintervals.\n",
        "*   Compares results with an analytical solution (if available) or SciPy’s quad.\n",
        "*   Explains the results in natural language.\n",
        "\n",
        "The function is defined as:"
      ],
      "metadata": {
        "id": "HaI6VfW8nYOO"
      }
    },
    {
      "cell_type": "code",
      "source": [
        "def llm_numerical_integration(problem):\n",
        "    prompt = f\"\"\"\n",
        "    You are a mathematical assistant. For the given numerical integration problem, perform the following:\n",
        "    1. Parse the function, interval, and any parameters.\n",
        "    2. Provide Python code to compute the integral using the Trapezoidal Rule and Simpson’s Rule (use n=100 subintervals).\n",
        "    3. Compare the results with the analytical solution (if available) or SciPy’s quad function.\n",
        "    4. Explain the results in natural language.\n",
        "    Problem: {problem}\n",
        "    \"\"\"\n",
        "    response = client.chat.completions.create(\n",
        "        model=\"deepseek-r2\",\n",
        "        messages=[{\"role\": \"user\", \"content\": prompt}]\n",
        "    )\n",
        "    return response.choices[0].message.content"
      ],
      "metadata": {
        "id": "VsoW_49-n1X5"
      },
      "execution_count": null,
      "outputs": []
    },
    {
      "cell_type": "markdown",
      "source": [
        "###Example Usage\n",
        "To illustrate the agent’s functionality, we test it with a sample problem:"
      ],
      "metadata": {
        "id": "Qlw4CDBDn83w"
      }
    },
    {
      "cell_type": "code",
      "source": [
        "problem = \"Compute the integral of f(x) = x^2 + 2x + 1 from 0 to 1\"\n",
        "result = llm_numerical_integration(problem)\n",
        "print(result)"
      ],
      "metadata": {
        "id": "SW46HJxrn_mS"
      },
      "execution_count": null,
      "outputs": []
    },
    {
      "cell_type": "markdown",
      "source": [
        "The LLM processes the problem, generates code resembling the trapezoidal_rule and simpsons_rule functions, and compares results to the analytical solution ($7/3 \\approx 2.3333$) or SciPy’s quad. The output includes numerical results and a textual explanation, enhancing its educational value.\n",
        "\n",
        "Integration with the Project\n",
        "The implementation is robust and adaptable, enabling the LLM agent to handle diverse functions and intervals. Using numpy and scipy ensures efficient and accurate computations, while the DeepSeek API facilitates natural language processing and code generation. The agent’s verification against analytical or high-precision solutions ensures reliability. In the Data section, we evaluate this implementation on a dataset of mathematical functions to assess performance across various function types.\n",
        "\n",
        "This implementation meets the project’s requirement for a Python-based solution and demonstrates the synergy between LLMs and numerical methods. The code is reusable and extensible to other numerical methods or problem types, making it a versatile tool for computational mathematics."
      ],
      "metadata": {
        "id": "hNUHWkXUoAt-"
      }
    },
    {
      "cell_type": "markdown",
      "source": [
        "## **Data**\n",
        "\n",
        "To evaluate the performance of the LLM-powered AI agent for numerical integration, we use a programmatically generated dataset of mathematical functions with known analytical integrals. This dataset includes three functions—polynomial, trigonometric, and exponential—each with distinct characteristics to test the agent’s ability to handle various integrands. The dataset is created within the Jupyter Notebook, eliminating the need for external data files, and is designed to assess the accuracy of the Trapezoidal Rule and Simpson’s Rule implementations against analytical solutions and SciPy’s high-precision `quad` function. Below, we describe the dataset, its structure, and its relevance to the project.\n",
        "\n",
        "### Dataset Description\n",
        "\n",
        "The dataset consists of three mathematical functions, each defined over a specific interval with a known analytical integral. These functions are chosen to represent common types of integrands encountered in numerical integration problems, allowing us to evaluate the LLM agent’s robustness and accuracy. The functions and their properties are:\n",
        "\n",
        "1. **Polynomial Function**: $f(x) = x^2 + 2x + 1$\n",
        "   - **Interval**: $[0, 1]$\n",
        "   - **Analytical Integral**:\n",
        "     $$\n",
        "     \\int_0^1 (x^2 + 2x + 1) \\, dx = \\left[ \\frac{x^3}{3} + x^2 + x \\right]_0^1 = \\frac{1}{3} + 1 + 1 = \\frac{7}{3} \\approx 2.3333333333333335\n",
        "     $$\n",
        "   - **Purpose**: Tests the agent’s performance on smooth, low-degree polynomials, where both numerical methods should perform well due to the function’s simplicity.\n",
        "\n",
        "2. **Trigonometric Function**: $f(x) = \\sin(x)$\n",
        "   - **Interval**: $[0, \\pi]$\n",
        "   - **Analytical Integral**:\n",
        "     $$\n",
        "     \\int_0^\\pi \\sin(x) \\, dx = [-\\cos(x)]_0^\\pi = -\\cos(\\pi) - (-\\cos(0)) = -(-1) - (-1) = 2.0\n",
        "     $$\n",
        "   - **Purpose**: Evaluates the agent’s ability to handle oscillatory functions, which may challenge numerical methods due to curvature changes.\n",
        "\n",
        "3. **Exponential Function**: $f(x) = e^x$\n",
        "   - **Interval**: $[0, 1]$\n",
        "   - **Analytical Integral**:\n",
        "     $$\n",
        "     \\int_0^1 e^x \\, dx = [e^x]_0^1 = e^1 - e^0 = e - 1 \\approx 1.718281828459045\n",
        "     $$\n",
        "   - **Purpose**: Assesses the agent’s performance on rapidly growing functions, testing the numerical methods’ accuracy for non-polynomial behavior.\n",
        "\n",
        "### Dataset Structure\n",
        "\n",
        "The dataset is implemented as a Python list of dictionaries, where each dictionary contains:\n",
        "- The function (`f`) as a Python lambda function for evaluation.\n",
        "- The interval bounds (`a`, `b`).\n",
        "- The analytical integral value (`analytical`) for verification.\n",
        "- A string description (`name`) for use in problem statements passed to the LLM agent.\n",
        "\n",
        "The dataset is generated programmatically in the notebook, ensuring reproducibility and ease of use. The code to create the dataset is shown below (to be included in a separate code cell):\n",
        "\n",
        "\n",
        "\n"
      ],
      "metadata": {
        "id": "0Qdi7yu5pPqa"
      }
    },
    {
      "cell_type": "code",
      "source": [
        "test_functions = [\n",
        "    {\"f\": lambda x: x**2 + 2*x + 1, \"a\": 0, \"b\": 1, \"analytical\": 2.3333333333333335, \"name\": \"x^2 + 2x + 1\"},\n",
        "    {\"f\": lambda x: np.sin(x), \"a\": 0, \"b\": np.pi, \"analytical\": 2.0, \"name\": \"sin(x)\"},\n",
        "    {\"f\": lambda x: np.exp(x), \"a\": 0, \"b\": 1, \"analytical\": np.e - 1, \"name\": \"e^x\"}\n",
        "]"
      ],
      "metadata": {
        "id": "yoQnDr2_pcOo"
      },
      "execution_count": null,
      "outputs": []
    },
    {
      "cell_type": "markdown",
      "source": [
        "### Testing the LLM Agent\n",
        "\n",
        "The LLM agent is tested on each function by passing a problem statement (e.g., “Compute the integral of $f(x) = x^2 + 2x + 1$ from 0 to 1”) to the `llm_numerical_integration` function. The agent generates Python code for the Trapezoidal Rule and Simpson’s Rule (with $n = 100$ subintervals), computes the integrals, and compares the results to the analytical values and SciPy’s `quad`. The testing code, to be included in a separate code cell, is:\n",
        "\n"
      ],
      "metadata": {
        "id": "pcxLwNe8p7dl"
      }
    },
    {
      "cell_type": "code",
      "source": [
        "for func in test_functions:\n",
        "    problem = f\"Compute the integral of f(x) = {func['name']} from {func['a']} to {func['b']}\"\n",
        "    print(f\"Testing: {problem}\")\n",
        "    result = llm_numerical_integration(problem)\n",
        "    print(result)\n",
        "    print(\"Analytical result:\", func['analytical'])\n",
        "    print(\"-\" * 50)"
      ],
      "metadata": {
        "id": "NppPk5YHptHv"
      },
      "execution_count": null,
      "outputs": []
    },
    {
      "cell_type": "markdown",
      "source": [
        "This code iterates over the dataset, evaluates the agent’s performance, and prints the results, including the LLM’s numerical approximations, analytical values, and explanations.\n",
        "\n",
        "### Relevance to the Project\n",
        "\n",
        "The dataset is highly relevant to the project’s objectives:\n",
        "- **Alignment with Numerical Methods**: The functions test the Trapezoidal Rule and Simpson’s Rule across different function types, highlighting their accuracy and limitations (e.g., Simpson’s Rule’s superior performance for smooth functions due to its $O(n^{-4})$ error).\n",
        "- **LLM Capabilities**: The dataset allows the LLM agent to demonstrate its ability to parse mathematical expressions, generate correct Python code, and provide educational explanations, fulfilling the project’s focus on LLM integration.\n",
        "- **Simplicity and Reproducibility**: By generating the dataset programmatically, we avoid reliance on external files, making the project self-contained and easy to run in Google Colab.\n",
        "- **Evaluation**: Comparing the agent’s results to analytical integrals and SciPy’s `quad` provides a robust assessment of accuracy, addressing the project’s requirement to evaluate performance.\n",
        "\n",
        "This dataset, while compact, is sufficient to demonstrate the LLM agent’s capabilities and the effectiveness of the numerical methods. In the next section, we analyze the results to draw conclusions about the agent’s performance and the practical utility of LLMs in numerical integration."
      ],
      "metadata": {
        "id": "xDkXLfN0pdc9"
      }
    },
    {
      "cell_type": "markdown",
      "source": [
        "## **References**\n",
        "\n",
        "The following sources were used in the development of this project, providing theoretical foundations, technical guidance, and practical resources for numerical integration and the application of Large Language Models (LLMs). These references informed the mathematical methods, implementation, and dataset design, ensuring the project’s accuracy and alignment with academic standards.\n",
        "\n",
        "1. Burden, R. L., & Faires, J. D. (2010). *Numerical Analysis* (9th ed.). Cengage Learning.\n",
        "   - This textbook provided the mathematical foundations for the Trapezoidal Rule and Simpson’s Rule, including derivations and error analysis, as detailed in the Math Method section.\n",
        "\n",
        "2. DynamicLLM. (2024). *Neural Networks and AI Agents Powered by Large Language Models*. GitHub Repository. Retrieved from https://github.com/DynamicLLM/LLM2024\n",
        "   - This course repository offered sample code and guidance on developing LLM agents, particularly for numerical methods, inspiring the project’s integration of LLMs with numerical integration.\n",
        "\n",
        "3. DeepSeek. (2024). *DeepSeek API Documentation*. Retrieved from https://github.com/DynamicLLM/LLM2024/blob/main/Installation/deepseekAPI.md\n",
        "   - The DeepSeek API documentation provided instructions for setting up and using the API, enabling the implementation of the LLM agent in the project.\n",
        "\n",
        "4. SciPy Community. (2024). *SciPy Documentation: Integration (scipy.integrate)*. Retrieved from https://docs.scipy.org/doc/scipy/reference/integrate.html\n",
        "   - The SciPy documentation guided the use of the `quad` function for high-precision numerical integration, used as a benchmark to verify the LLM agent’s results.\n",
        "\n",
        "These references collectively supported the project’s development, from theoretical underpinnings to practical implementation, ensuring a robust and well-documented approach to numerical integration with LLMs."
      ],
      "metadata": {
        "id": "oeDKVnVgqKZq"
      }
    }
  ]
}