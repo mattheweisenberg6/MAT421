{
  "nbformat": 4,
  "nbformat_minor": 0,
  "metadata": {
    "colab": {
      "provenance": [],
      "authorship_tag": "ABX9TyObEOpqan4HO32nvtSX022l",
      "include_colab_link": true
    },
    "kernelspec": {
      "name": "python3",
      "display_name": "Python 3"
    },
    "language_info": {
      "name": "python"
    }
  },
  "cells": [
    {
      "cell_type": "markdown",
      "metadata": {
        "id": "view-in-github",
        "colab_type": "text"
      },
      "source": [
        "<a href=\"https://colab.research.google.com/github/mattheweisenberg6/MAT421/blob/main/ModuleG1.ipynb\" target=\"_parent\"><img src=\"https://colab.research.google.com/assets/colab-badge.svg\" alt=\"Open In Colab\"/></a>"
      ]
    },
    {
      "cell_type": "markdown",
      "source": [
        "**21.1 Numerical Integration Problem Statement**\n",
        "\n",
        "Given a function f(x), we want to compute the integral over the interval [a,b]. We achieve this through discretization of the interval into a numerical grid consisting of n+1 points with spacing h = (b-a)/n. We denote each point, x, where x_0 = a and x_n = b. We assume f(x) can be computed for any of the grid points where each interval [x_i, x_i+1] is referred to as a subinterval. The following chapters provides methods to calculate the integral of f(x) on the interval [a,b] through utilizing subintervals to generate approximations.\n",
        "\n"
      ],
      "metadata": {
        "id": "Vvl_LDNz1a8d"
      }
    },
    {
      "cell_type": "markdown",
      "source": [
        "**21.2 Riemann's Integral**\n",
        "\n",
        "We can use rectangles to act as subintervals along f(x) that have width x_i+1 - x_i = h and a height determined by the f(x) value for some x in the subinterval. We can use the left or right endpoints (x_i or x_i+1), even if we don't know the function. This provides the Riemann integral  \n",
        "∫f(x)dx ≈ ∑h*f(xi) where h is the width of the rectangle (xi+1 - xi) and f(xi) is the height. We can use Taylor series to approximate accurary of Riemann integrals with O(h). The Midpoint Rule uses the height of the rectangle through the midpoint of x_i to x_i+1 in the subinterval. We denote the midpoint as y_i = (x_i + x_i+1)/2 used in the formula   ∫f(x)dx ≈ ∑hf(yi)."
      ],
      "metadata": {
        "id": "-_vUTDC61bCm"
      }
    },
    {
      "cell_type": "code",
      "source": [
        "#We use Riemann integrals and the Midpoint Rule to approximate ∫π0sin(x)dx\n",
        "#wtih 15 evenly spaced grid ponts over the whole interval\n",
        "\n",
        "import numpy as np\n",
        "\n",
        "a = 0\n",
        "b = np.pi\n",
        "n = 15\n",
        "h = (b - a) / (n - 1)\n",
        "x = np.linspace(a, b, n)\n",
        "f = np.sin(x)\n",
        "\n",
        "I_riemannL = h * sum(f[:n-1])\n",
        "err_riemannL = 2 - I_riemannL\n",
        "\n",
        "I_riemannR = h * sum(f[1::])\n",
        "err_riemannR = 2 - I_riemannR\n",
        "\n",
        "I_mid = h * sum(np.sin((x[:n-1] \\\n",
        "        + x[1:])/2))\n",
        "err_mid = 2 - I_mid\n",
        "\n",
        "print(I_riemannL) # left riemann value\n",
        "print(err_riemannL) # left riemann error\n",
        "\n",
        "print(I_riemannR) # right riemann value\n",
        "print(err_riemannR) # right riemann error\n",
        "\n",
        "print(I_mid) # midpoint value\n",
        "print(err_mid) # midpoint error"
      ],
      "metadata": {
        "colab": {
          "base_uri": "https://localhost:8080/"
        },
        "id": "oza6wZtd4c9Z",
        "outputId": "85318845-e1fa-4242-a3ac-ea63a50d9009"
      },
      "execution_count": 1,
      "outputs": [
        {
          "output_type": "stream",
          "name": "stdout",
          "text": [
            "1.9916004273550743\n",
            "0.008399572644925746\n",
            "1.9916004273550743\n",
            "0.008399572644925746\n",
            "2.0042024315762794\n",
            "-0.0042024315762794195\n"
          ]
        }
      ]
    },
    {
      "cell_type": "markdown",
      "source": [
        "**21.3 Trapezoid Rule**\n",
        "\n",
        "The Trapezoid Rule fits a trapezoid into each subinterval and sums the areas to generate an approximation of the f(x) integral. The rule generates trapezoids at corners (xi,0),(xi+1,0),(xi,f(xi)), and (xi+1,f(xi+1)) which is h(f(x_i) + f(x_i+1))/2. This creates the formula of ∫f(x)dx ≈ ∑ h * [(f(xi)+f(xi+1)) / 2].\n"
      ],
      "metadata": {
        "id": "RlbyeOIX1bJL"
      }
    },
    {
      "cell_type": "code",
      "source": [
        "#We use the same example from earlier but use the Trapezoid Rule instead\n",
        "\n",
        "import numpy as np\n",
        "\n",
        "a = 0\n",
        "b = np.pi\n",
        "n = 15\n",
        "h = (b - a) / (n - 1)\n",
        "x = np.linspace(a, b, n)\n",
        "f = np.sin(x)\n",
        "\n",
        "I_trap = (h/2)*(f[0] + \\\n",
        "          2 * sum(f[1:n-1]) + f[n-1]) #trapezoid approximation of integral\n",
        "err_trap = 2 - I_trap #trapezoid error\n",
        "\n",
        "print(I_trap)\n",
        "print(err_trap)"
      ],
      "metadata": {
        "colab": {
          "base_uri": "https://localhost:8080/"
        },
        "id": "jsAr5hYz5ozu",
        "outputId": "ea9e0b87-6cde-4f03-8834-5c5c0c42973f"
      },
      "execution_count": 2,
      "outputs": [
        {
          "output_type": "stream",
          "name": "stdout",
          "text": [
            "1.9916004273550743\n",
            "0.008399572644925746\n"
          ]
        }
      ]
    }
  ]
}