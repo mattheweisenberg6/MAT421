{
  "nbformat": 4,
  "nbformat_minor": 0,
  "metadata": {
    "colab": {
      "provenance": [],
      "authorship_tag": "ABX9TyNuPDaQmoYGukHs/MOljjKf",
      "include_colab_link": true
    },
    "kernelspec": {
      "name": "python3",
      "display_name": "Python 3"
    },
    "language_info": {
      "name": "python"
    }
  },
  "cells": [
    {
      "cell_type": "markdown",
      "metadata": {
        "id": "view-in-github",
        "colab_type": "text"
      },
      "source": [
        "<a href=\"https://colab.research.google.com/github/mattheweisenberg6/MAT421/blob/main/ProjectPlan.ipynb\" target=\"_parent\"><img src=\"https://colab.research.google.com/assets/colab-badge.svg\" alt=\"Open In Colab\"/></a>"
      ]
    },
    {
      "cell_type": "markdown",
      "source": [
        "**1. Introduction to the Problem**\n",
        "\n",
        "The integration of Large Language Models (LLMs) into educational tools presents a significant opportunity to enhance mathematics learning. Despite the power of models like ChatGPT and DeepSeek, there remains a critical gap in their application for step-by-step numerical methods instruction. Current LLMs often provide final answers without proper verification or explanation of intermediate steps, limiting their educational value.\n",
        "This project aims to develop specialized LLM agents that can not only solve numerical problems but also verify solutions, explain how to get to the solution, and adapt to different student learning styles. These agents will serve as intelligent tutoring systems that bridge the gap between theoretical understanding and practical application of numerical methods.\n",
        "The key challenges that will be addressed include ensuring mathematical accuracy and solution verification, providing personalized, step-by-step explanations, creating an interactive learning experience that reinforces conceptual understanding, and developing a system that helps students build intuition for numerical methods."
      ],
      "metadata": {
        "id": "RZ02TmmAp5An"
      }
    },
    {
      "cell_type": "markdown",
      "source": [
        "**2. Related Work**\n",
        "\n",
        "This project builds upon several streams of recent research and development which includes the following:\n",
        "\n",
        "**LLM-based Educational Tools**: I will examine existing applications like Khan Academy's Khanmigo and similar tutoring systems to understand current approaches to AI-assisted education.\n",
        "\n",
        "**Mathematical Reasoning in LLMs**: I will analyze recent papers on enhancing mathematical reasoning in models like GPT-4 and DeepSeek, particularly focusing on techniques for improving step-by-step problem-solving and verification.\n",
        "\n",
        "**Verification Methods**: Building on examples like SimpleMathSolverVerification.ipynb and mathSolverMultVerification.ipynb from the course project plan page, I'll explore frameworks for ensuring mathematical accuracy on these topics through multi-agent verification systems.\n",
        "\n",
        "**Interactive Learning Environments**: I will review research on effective human-AI interaction for mathematics learning, particularly focusing on how to structure dialogue for optimal learning outcomes."
      ],
      "metadata": {
        "id": "46yCIvbMq5Ya"
      }
    },
    {
      "cell_type": "markdown",
      "source": [
        "**3. Proposed Methodology / Models**\n",
        "\n",
        "This methodology centers on developing multi-agent LLM systems that specialize in numerical methods. The project will employ the following approaches:\n",
        "\n",
        "**Agent Architecture**:\n",
        "\n",
        "Primary Solver Agent: Processes user inputs, formulates solutions to numerical problems.\n",
        "\n",
        "Verification Agent: Independently checks solutions through alternative methods.\n",
        "\n",
        "Explanation Agent: Converts technical solutions into clear, step-by-step explanations.\n",
        "\n",
        "Meta-coordination Agent: Orchestrates interactions between agents and manages dialogue flow.\n",
        "\n",
        "**Model Selection**:\n",
        "\n",
        "I will implement a hybrid approach using both OpenAI's GPT models and DeepSeek models. Comparative analysis will be conducted to determine optimal cost-performance tradeoffs for different numerical tasks (e.g. token costs).\n",
        "\n",
        "**Prompt Engineering**:\n",
        "\n",
        "Development of specialized prompts for numerical methods (differentiation, integration, linear systems, ODEs). Creation of templates that encourage step-by-step reasoning and solution verification. Implementation of chain-of-thought techniques specific to mathematical problem-solving\n",
        "\n",
        "**Evaluation Framework**:\n",
        "\n",
        "Creation of a benchmark dataset covering core numerical methods topics.\n",
        "Development of metrics for solution accuracy, explanation quality, and learning value."
      ],
      "metadata": {
        "id": "GsyVySA-rbA8"
      }
    },
    {
      "cell_type": "markdown",
      "source": [
        "**4. Experiment Setups**\n",
        "\n",
        "The experimental approach will test the effectiveness of the agent system through multiple phases:\n",
        "\n",
        "**Phase 1**: **Agent Development and Baseline Testing**\n",
        "\n",
        "Implement individual agents (solver, verifier, explainer).\n",
        "Test on a curated set of numerical methods problems from the course that I have learned thus far (e.g. integration, matrices, differential equations).\n",
        "Establish baseline performance metrics for accuracy and explanation quality.\n",
        "Compare performance across OpenAI and DeepSeek models with same problems.\n",
        "\n",
        "**Phase 2**: **Multi-agent Integration**\n",
        "\n",
        "Combine individual agents into a coordinated system. Develop protocols for agent communication and conflict resolution. Test integrated system on increasingly complex numerical problems. Address any problems with agents if needed.\n",
        "\n",
        "**Phase 3**: **User Testing**\n",
        "\n",
        "Recruit 10-15 volunteers to test agent on. Conduct supervised sessions using the agent system for solving numerical problems. Collect feedback on explanation quality, learning outcomes, and user experience. Analyze interaction patterns to identify areas for improvement.\n",
        "\n",
        "**Phase 4**: **Optimization and Extension**\n",
        "\n",
        "Refine agent prompts and interaction patterns based on user feedback. Extend the system to cover additional numerical methods that it may not have covered in testing. Optimize API usage to reduce costs while maintaining performance."
      ],
      "metadata": {
        "id": "VozkKsv4sVV2"
      }
    },
    {
      "cell_type": "markdown",
      "source": [
        "**5. Expected Results**\n",
        "\n",
        "I anticipate the following outcomes from this project:\n",
        "\n",
        "**Technical Achievements**:\n",
        "\n",
        "A functioning multi-agent system capable of solving, verifying, and explaining numerical methods problems. Benchmark results comparing OpenAI and DeepSeek models for mathematical reasoning tasks. A library of optimized prompts for numerical methods instruction. GitHub repository with well-documented code for future extension.\n",
        "\n",
        "**Educational Impact**:\n",
        "\n",
        "Improved student understanding of complex numerical methods through interactive explanations. Reduced error rates in student solutions through guided problem-solving. Enhanced student engagement with mathematical concepts through conversational and visual learning.\n",
        "\n",
        "**Research Contributions**:\n",
        "\n",
        "Insights into effective prompt engineering for mathematical reasoning. Data on the effectiveness of multi-agent verification systems for numerical accuracy.\n",
        "Framework for evaluating LLM-based educational tools in mathematical settings.\n",
        "\n",
        "**Limitations and Future Work**:\n",
        "\n",
        "I expect a lot of challenges with complex integration techniques and differential equations. Future work will focus on expanding the range of covered topics and incorporating visualization tools along with problem explanations. Long-term goals include developing adaptive learning paths based on student performance and tackling more complex problems."
      ],
      "metadata": {
        "id": "aKHV-9NjsbTe"
      }
    }
  ]
}